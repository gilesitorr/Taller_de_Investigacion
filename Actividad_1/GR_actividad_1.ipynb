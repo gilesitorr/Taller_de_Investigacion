{
  "nbformat": 4,
  "nbformat_minor": 0,
  "metadata": {
    "colab": {
      "name": "GR_actividad_1.ipynb",
      "provenance": [],
      "authorship_tag": "ABX9TyNl2jTRUkKjZJnNDynOS+dz",
      "include_colab_link": true
    },
    "kernelspec": {
      "name": "python3",
      "display_name": "Python 3"
    },
    "language_info": {
      "name": "python"
    }
  },
  "cells": [
    {
      "cell_type": "markdown",
      "metadata": {
        "id": "view-in-github",
        "colab_type": "text"
      },
      "source": [
        "<a href=\"https://colab.research.google.com/github/gilesitorr/Taller_de_Investigacion/blob/main/Actividad_1/GR_actividad_1.ipynb\" target=\"_parent\"><img src=\"https://colab.research.google.com/assets/colab-badge.svg\" alt=\"Open In Colab\"/></a>"
      ]
    },
    {
      "cell_type": "markdown",
      "metadata": {
        "id": "FVmBxzKUsBV1"
      },
      "source": [
        "# Actividad 1\n",
        "## Taller de Investigación (Relatividad General)\n",
        "#### Impartido por Dr. José Luis López Picón\n",
        "##### Gil Estéfano Rodríguez Rivera\n",
        "\n",
        "Este trabajo tiene como objetivo comparar los resultados _calculados a mano_ de los símbolos de Christoffel (que se encuentran en el reporte de la tarea). Luego, se realizarán los cálculos de las componentes del tensor de Ricci y el cálculo del escalar de Ricci. El objetivo final es calcular el tensor de Einstein asociado a la métrica con la que se trabaja.\n",
        "\n",
        "Para saber más sobre la librería, aquí está el enlace a [EinsteinPy](https://docs.einsteinpy.org/en/stable/index.html)."
      ]
    },
    {
      "cell_type": "markdown",
      "metadata": {
        "id": "7El62x5Ysewj"
      },
      "source": [
        "## Librerías"
      ]
    },
    {
      "cell_type": "code",
      "metadata": {
        "colab": {
          "base_uri": "https://localhost:8080/"
        },
        "id": "_sIHaUANpumn",
        "outputId": "c898cf63-1dcf-440f-c1b6-29a19b82d17f"
      },
      "source": [
        "# Se descarga el paquete EinsteinPy\n",
        "!pip install einsteinpy"
      ],
      "execution_count": 23,
      "outputs": [
        {
          "output_type": "stream",
          "text": [
            "Requirement already satisfied: einsteinpy in /usr/local/lib/python3.7/dist-packages (0.4.0)\n",
            "Requirement already satisfied: plotly>=4.0 in /usr/local/lib/python3.7/dist-packages (from einsteinpy) (4.4.1)\n",
            "Requirement already satisfied: sympy>=1.1 in /usr/local/lib/python3.7/dist-packages (from einsteinpy) (1.7.1)\n",
            "Requirement already satisfied: numba!=0.49.0,>=0.46 in /usr/local/lib/python3.7/dist-packages (from einsteinpy) (0.51.2)\n",
            "Requirement already satisfied: matplotlib in /usr/local/lib/python3.7/dist-packages (from einsteinpy) (3.2.2)\n",
            "Requirement already satisfied: scipy>=1.0 in /usr/local/lib/python3.7/dist-packages (from einsteinpy) (1.4.1)\n",
            "Requirement already satisfied: astropy in /usr/local/lib/python3.7/dist-packages (from einsteinpy) (4.3.1)\n",
            "Requirement already satisfied: numpy in /usr/local/lib/python3.7/dist-packages (from einsteinpy) (1.19.5)\n",
            "Requirement already satisfied: llvmlite<0.35,>=0.34.0.dev0 in /usr/local/lib/python3.7/dist-packages (from numba!=0.49.0,>=0.46->einsteinpy) (0.34.0)\n",
            "Requirement already satisfied: setuptools in /usr/local/lib/python3.7/dist-packages (from numba!=0.49.0,>=0.46->einsteinpy) (57.4.0)\n",
            "Requirement already satisfied: six in /usr/local/lib/python3.7/dist-packages (from plotly>=4.0->einsteinpy) (1.15.0)\n",
            "Requirement already satisfied: retrying>=1.3.3 in /usr/local/lib/python3.7/dist-packages (from plotly>=4.0->einsteinpy) (1.3.3)\n",
            "Requirement already satisfied: mpmath>=0.19 in /usr/local/lib/python3.7/dist-packages (from sympy>=1.1->einsteinpy) (1.2.1)\n",
            "Requirement already satisfied: importlib-metadata in /usr/local/lib/python3.7/dist-packages (from astropy->einsteinpy) (4.6.4)\n",
            "Requirement already satisfied: pyerfa>=1.7.3 in /usr/local/lib/python3.7/dist-packages (from astropy->einsteinpy) (2.0.0)\n",
            "Requirement already satisfied: typing-extensions>=3.6.4 in /usr/local/lib/python3.7/dist-packages (from importlib-metadata->astropy->einsteinpy) (3.7.4.3)\n",
            "Requirement already satisfied: zipp>=0.5 in /usr/local/lib/python3.7/dist-packages (from importlib-metadata->astropy->einsteinpy) (3.5.0)\n",
            "Requirement already satisfied: python-dateutil>=2.1 in /usr/local/lib/python3.7/dist-packages (from matplotlib->einsteinpy) (2.8.2)\n",
            "Requirement already satisfied: cycler>=0.10 in /usr/local/lib/python3.7/dist-packages (from matplotlib->einsteinpy) (0.10.0)\n",
            "Requirement already satisfied: pyparsing!=2.0.4,!=2.1.2,!=2.1.6,>=2.0.1 in /usr/local/lib/python3.7/dist-packages (from matplotlib->einsteinpy) (2.4.7)\n",
            "Requirement already satisfied: kiwisolver>=1.0.1 in /usr/local/lib/python3.7/dist-packages (from matplotlib->einsteinpy) (1.3.1)\n"
          ],
          "name": "stdout"
        }
      ]
    },
    {
      "cell_type": "code",
      "metadata": {
        "id": "3HZ1ZXrzpsUn"
      },
      "source": [
        "# Para poder realizar cálculos simbólicos\n",
        "import sympy\n",
        "\n",
        "# Se importan algunas funciones conocidas así como las necesarias para definir\n",
        "# las variables y las funciones desconocidas a estudiar\n",
        "from sympy import symbols, sin, cos, exp, Function\n",
        "\n",
        "# Se importan de EinsteinPy los tensores y objetos que se calcularán\n",
        "from einsteinpy.symbolic import MetricTensor, ChristoffelSymbols, RicciTensor, RicciScalar, EinsteinTensor\n",
        "\n",
        "# Esto se hace para poder tener un formato de impresión de tensores \"bonito\"\n",
        "sympy.init_printing()"
      ],
      "execution_count": 24,
      "outputs": []
    },
    {
      "cell_type": "markdown",
      "metadata": {
        "id": "OR3OPyjJsiIv"
      },
      "source": [
        "## Cálculos"
      ]
    },
    {
      "cell_type": "markdown",
      "metadata": {
        "id": "FRZdiM02dN-4"
      },
      "source": [
        "Antes de realizar los cálculos, se deben definir las variables a utilizar y la métrica con la que se trabajará"
      ]
    },
    {
      "cell_type": "code",
      "metadata": {
        "id": "yIDlTLuTdM5D"
      },
      "source": [
        "# Se definen las variables a usar\n",
        "syms = symbols(\"t r theta phi\")\n",
        "t, r, th, ph = syms\n",
        "\n",
        "# Se definen las funciones a usar que dependen de r\n",
        "lam = Function(\"lambda\")(r)\n",
        "nu = Function(\"nu\")(r)"
      ],
      "execution_count": 25,
      "outputs": []
    },
    {
      "cell_type": "code",
      "metadata": {
        "id": "JxumVeR-pkIC"
      },
      "source": [
        "# Se construye la métrica diagonal\n",
        "g = sympy.diag(-exp(-2*lam), exp(2*nu), r ** 2, r ** 2 * sin(th) ** 2).tolist()\n",
        "metrica = MetricTensor(g, syms)"
      ],
      "execution_count": 26,
      "outputs": []
    },
    {
      "cell_type": "code",
      "metadata": {
        "colab": {
          "base_uri": "https://localhost:8080/",
          "height": 100
        },
        "id": "E3X1eRAMra3k",
        "outputId": "8464769b-72f9-4493-a5e3-6ef31ad6147c"
      },
      "source": [
        "# El tensor métrico en forma de matriz\n",
        "metrica.tensor()"
      ],
      "execution_count": 27,
      "outputs": [
        {
          "output_type": "execute_result",
          "data": {
            "text/latex": "$\\displaystyle \\left[\\begin{matrix}- e^{- 2 \\lambda{\\left(r \\right)}} & 0 & 0 & 0\\\\0 & e^{2 \\nu{\\left(r \\right)}} & 0 & 0\\\\0 & 0 & r^{2} & 0\\\\0 & 0 & 0 & r^{2} \\sin^{2}{\\left(\\theta \\right)}\\end{matrix}\\right]$",
            "text/plain": [
              "⎡  -2⋅λ(r)                         ⎤\n",
              "⎢-ℯ            0     0       0     ⎥\n",
              "⎢                                  ⎥\n",
              "⎢            2⋅ν(r)                ⎥\n",
              "⎢    0      ℯ        0       0     ⎥\n",
              "⎢                                  ⎥\n",
              "⎢                     2            ⎥\n",
              "⎢    0         0     r       0     ⎥\n",
              "⎢                                  ⎥\n",
              "⎢                         2    2   ⎥\n",
              "⎣    0         0     0   r ⋅sin (θ)⎦"
            ]
          },
          "metadata": {},
          "execution_count": 27
        }
      ]
    },
    {
      "cell_type": "markdown",
      "metadata": {
        "id": "V6Esz4u8txWS"
      },
      "source": [
        "### Símbolos de Christoffel"
      ]
    },
    {
      "cell_type": "markdown",
      "metadata": {
        "id": "x3Ea001gdbJD"
      },
      "source": [
        "El primer paso en el cálculo del tensor de Einstein son los símbolos de Christoffel"
      ]
    },
    {
      "cell_type": "code",
      "metadata": {
        "id": "3V6SBif-uBQc"
      },
      "source": [
        "# Se calculan los símbolos de Christoffel a partir de la métrica\n",
        "christoffel = ChristoffelSymbols.from_metric(metrica)"
      ],
      "execution_count": 28,
      "outputs": []
    },
    {
      "cell_type": "code",
      "metadata": {
        "colab": {
          "base_uri": "https://localhost:8080/",
          "height": 99
        },
        "id": "PPJ1PO_6r3gS",
        "outputId": "3c5348df-4455-4941-adad-21982a661592"
      },
      "source": [
        "# Los símbolos de Christoffel que tienen índice t arriba\n",
        "christoffel.tensor()[0]"
      ],
      "execution_count": 29,
      "outputs": [
        {
          "output_type": "execute_result",
          "data": {
            "text/latex": "$\\displaystyle \\left[\\begin{matrix}0 & - \\frac{d}{d r} \\lambda{\\left(r \\right)} & 0 & 0\\\\- \\frac{d}{d r} \\lambda{\\left(r \\right)} & 0 & 0 & 0\\\\0 & 0 & 0 & 0\\\\0 & 0 & 0 & 0\\end{matrix}\\right]$",
            "text/plain": [
              "⎡            d             ⎤\n",
              "⎢    0      -──(λ(r))  0  0⎥\n",
              "⎢            dr            ⎥\n",
              "⎢                          ⎥\n",
              "⎢ d                        ⎥\n",
              "⎢-──(λ(r))      0      0  0⎥\n",
              "⎢ dr                       ⎥\n",
              "⎢                          ⎥\n",
              "⎢    0          0      0  0⎥\n",
              "⎢                          ⎥\n",
              "⎣    0          0      0  0⎦"
            ]
          },
          "metadata": {},
          "execution_count": 29
        }
      ]
    },
    {
      "cell_type": "code",
      "metadata": {
        "colab": {
          "base_uri": "https://localhost:8080/",
          "height": 101
        },
        "id": "IxNZ04yvuSpT",
        "outputId": "3bf5c80f-d068-4f46-891b-654a37473f42"
      },
      "source": [
        "# Los símbolos de Christoffel que tienen índice r arriba\n",
        "christoffel.tensor()[1]"
      ],
      "execution_count": 30,
      "outputs": [
        {
          "output_type": "execute_result",
          "data": {
            "text/latex": "$\\displaystyle \\left[\\begin{matrix}- e^{- 2 \\lambda{\\left(r \\right)}} e^{- 2 \\nu{\\left(r \\right)}} \\frac{d}{d r} \\lambda{\\left(r \\right)} & 0 & 0 & 0\\\\0 & \\frac{d}{d r} \\nu{\\left(r \\right)} & 0 & 0\\\\0 & 0 & - r e^{- 2 \\nu{\\left(r \\right)}} & 0\\\\0 & 0 & 0 & - r e^{- 2 \\nu{\\left(r \\right)}} \\sin^{2}{\\left(\\theta \\right)}\\end{matrix}\\right]$",
            "text/plain": [
              "⎡  -2⋅λ(r)  -2⋅ν(r) d                                                   ⎤\n",
              "⎢-ℯ       ⋅ℯ       ⋅──(λ(r))     0           0                0         ⎥\n",
              "⎢                   dr                                                  ⎥\n",
              "⎢                                                                       ⎥\n",
              "⎢                             d                                         ⎥\n",
              "⎢             0               ──(ν(r))       0                0         ⎥\n",
              "⎢                             dr                                        ⎥\n",
              "⎢                                                                       ⎥\n",
              "⎢                                           -2⋅ν(r)                     ⎥\n",
              "⎢             0                  0      -r⋅ℯ                  0         ⎥\n",
              "⎢                                                                       ⎥\n",
              "⎢                                                        -2⋅ν(r)    2   ⎥\n",
              "⎣             0                  0           0       -r⋅ℯ       ⋅sin (θ)⎦"
            ]
          },
          "metadata": {},
          "execution_count": 30
        }
      ]
    },
    {
      "cell_type": "code",
      "metadata": {
        "colab": {
          "base_uri": "https://localhost:8080/",
          "height": 99
        },
        "id": "0z0xsCbduS1X",
        "outputId": "ef7a6640-0b04-4b69-bed9-081ac7e1af08"
      },
      "source": [
        "# Los símbolos de Christoffel que tienen índice theta arriba\n",
        "christoffel.tensor()[2]"
      ],
      "execution_count": 31,
      "outputs": [
        {
          "output_type": "execute_result",
          "data": {
            "text/latex": "$\\displaystyle \\left[\\begin{matrix}0 & 0 & 0 & 0\\\\0 & 0 & \\frac{1}{r} & 0\\\\0 & \\frac{1}{r} & 0 & 0\\\\0 & 0 & 0 & - \\sin{\\left(\\theta \\right)} \\cos{\\left(\\theta \\right)}\\end{matrix}\\right]$",
            "text/plain": [
              "⎡0  0  0        0       ⎤\n",
              "⎢                       ⎥\n",
              "⎢      1                ⎥\n",
              "⎢0  0  ─        0       ⎥\n",
              "⎢      r                ⎥\n",
              "⎢                       ⎥\n",
              "⎢   1                   ⎥\n",
              "⎢0  ─  0        0       ⎥\n",
              "⎢   r                   ⎥\n",
              "⎢                       ⎥\n",
              "⎣0  0  0  -sin(θ)⋅cos(θ)⎦"
            ]
          },
          "metadata": {},
          "execution_count": 31
        }
      ]
    },
    {
      "cell_type": "code",
      "metadata": {
        "colab": {
          "base_uri": "https://localhost:8080/",
          "height": 110
        },
        "id": "OZB4lYJCuTAq",
        "outputId": "3c3042e4-a7f8-4c4a-d6e7-d87f9ff5673f"
      },
      "source": [
        "# Los símbolos de Christoffel que tienen índice phi arriba\n",
        "christoffel.tensor()[3]"
      ],
      "execution_count": 32,
      "outputs": [
        {
          "output_type": "execute_result",
          "data": {
            "text/latex": "$\\displaystyle \\left[\\begin{matrix}0 & 0 & 0 & 0\\\\0 & 0 & 0 & \\frac{1}{r}\\\\0 & 0 & 0 & \\frac{\\cos{\\left(\\theta \\right)}}{\\sin{\\left(\\theta \\right)}}\\\\0 & \\frac{1}{r} & \\frac{\\cos{\\left(\\theta \\right)}}{\\sin{\\left(\\theta \\right)}} & 0\\end{matrix}\\right]$",
            "text/plain": [
              "⎡0  0    0       0   ⎤\n",
              "⎢                    ⎥\n",
              "⎢                1   ⎥\n",
              "⎢0  0    0       ─   ⎥\n",
              "⎢                r   ⎥\n",
              "⎢                    ⎥\n",
              "⎢              cos(θ)⎥\n",
              "⎢0  0    0     ──────⎥\n",
              "⎢              sin(θ)⎥\n",
              "⎢                    ⎥\n",
              "⎢   1  cos(θ)        ⎥\n",
              "⎢0  ─  ──────    0   ⎥\n",
              "⎣   r  sin(θ)        ⎦"
            ]
          },
          "metadata": {},
          "execution_count": 32
        }
      ]
    },
    {
      "cell_type": "markdown",
      "metadata": {
        "id": "nLqP-ai0uNmR"
      },
      "source": [
        "### Tensor de Ricci"
      ]
    },
    {
      "cell_type": "markdown",
      "metadata": {
        "id": "_iaqYFWTdp-e"
      },
      "source": [
        "A partir de los símbolos de Christoffel, se construye el tensor de Ricci."
      ]
    },
    {
      "cell_type": "code",
      "metadata": {
        "id": "vafaOd_gwEqK"
      },
      "source": [
        "# Se calcula el tensor de Ricci a partir de los símbolos de Christoffel\n",
        "ricci_tensor = RicciTensor.from_christoffels(christoffel)"
      ],
      "execution_count": 33,
      "outputs": []
    },
    {
      "cell_type": "code",
      "metadata": {
        "colab": {
          "base_uri": "https://localhost:8080/",
          "height": 137
        },
        "id": "rg7eija3rgvP",
        "outputId": "443c092a-51af-49bf-d78a-4b5cdb1a6412"
      },
      "source": [
        "# Se muestra el tensor de Ricci en forma de matriz\n",
        "ricci_tensor.tensor()"
      ],
      "execution_count": 34,
      "outputs": [
        {
          "output_type": "execute_result",
          "data": {
            "text/latex": "$\\displaystyle \\left[\\begin{matrix}\\frac{\\left(r \\left(\\left(\\frac{d}{d r} \\lambda{\\left(r \\right)}\\right)^{2} + \\frac{d}{d r} \\lambda{\\left(r \\right)} \\frac{d}{d r} \\nu{\\left(r \\right)} - \\frac{d^{2}}{d r^{2}} \\lambda{\\left(r \\right)}\\right) - 2 \\frac{d}{d r} \\lambda{\\left(r \\right)}\\right) e^{- 2 \\lambda{\\left(r \\right)} - 2 \\nu{\\left(r \\right)}}}{r} & 0 & 0 & 0\\\\0 & - \\left(\\frac{d}{d r} \\lambda{\\left(r \\right)}\\right)^{2} - \\frac{d}{d r} \\lambda{\\left(r \\right)} \\frac{d}{d r} \\nu{\\left(r \\right)} + \\frac{d^{2}}{d r^{2}} \\lambda{\\left(r \\right)} + \\frac{2 \\frac{d}{d r} \\nu{\\left(r \\right)}}{r} & 0 & 0\\\\0 & 0 & \\left(r \\frac{d}{d r} \\lambda{\\left(r \\right)} + r \\frac{d}{d r} \\nu{\\left(r \\right)} + e^{2 \\nu{\\left(r \\right)}} - 1\\right) e^{- 2 \\nu{\\left(r \\right)}} & 0\\\\0 & 0 & 0 & \\left(r \\frac{d}{d r} \\lambda{\\left(r \\right)} + r \\frac{d}{d r} \\nu{\\left(r \\right)} + e^{2 \\nu{\\left(r \\right)}} - 1\\right) e^{- 2 \\nu{\\left(r \\right)}} \\sin^{2}{\\left(\\theta \\right)}\\end{matrix}\\right]$",
            "text/plain": [
              "⎡⎛  ⎛          2                         2      ⎞             ⎞               \n",
              "⎢⎜  ⎜⎛d       ⎞    d        d           d       ⎟     d       ⎟  -2⋅λ(r) - 2⋅ν\n",
              "⎢⎜r⋅⎜⎜──(λ(r))⎟  + ──(λ(r))⋅──(ν(r)) - ───(λ(r))⎟ - 2⋅──(λ(r))⎟⋅ℯ             \n",
              "⎢⎜  ⎜⎝dr      ⎠    dr       dr           2      ⎟     dr      ⎟               \n",
              "⎢⎝  ⎝                                  dr       ⎠             ⎠               \n",
              "⎢─────────────────────────────────────────────────────────────────────────────\n",
              "⎢                                       r                                     \n",
              "⎢                                                                             \n",
              "⎢                                                                             \n",
              "⎢                                                                             \n",
              "⎢                                                                             \n",
              "⎢                                       0                                     \n",
              "⎢                                                                             \n",
              "⎢                                                                             \n",
              "⎢                                                                             \n",
              "⎢                                                                             \n",
              "⎢                                       0                                     \n",
              "⎢                                                                             \n",
              "⎢                                                                             \n",
              "⎢                                                                             \n",
              "⎢                                       0                                     \n",
              "⎣                                                                             \n",
              "\n",
              "                                                                              \n",
              "(r)                                                                           \n",
              "                                                                              \n",
              "                                                                              \n",
              "                                                                              \n",
              "───                              0                                            \n",
              "                                                                              \n",
              "                                                                              \n",
              "                                                       d                      \n",
              "                 2                         2         2⋅──(ν(r))               \n",
              "       ⎛d       ⎞    d        d           d            dr                     \n",
              "     - ⎜──(λ(r))⎟  - ──(λ(r))⋅──(ν(r)) + ───(λ(r)) + ──────────               \n",
              "       ⎝dr      ⎠    dr       dr           2             r                    \n",
              "                                         dr                                   \n",
              "                                                                              \n",
              "                                                                 ⎛  d         \n",
              "                                 0                               ⎜r⋅──(λ(r)) +\n",
              "                                                                 ⎝  dr        \n",
              "                                                                              \n",
              "                                                                              \n",
              "                                 0                                            \n",
              "                                                                              \n",
              "\n",
              "                                                                              \n",
              "                                                                              \n",
              "                                                                              \n",
              "                                                                              \n",
              "                                                                              \n",
              "          0                                                     0             \n",
              "                                                                              \n",
              "                                                                              \n",
              "                                                                              \n",
              "                                                                              \n",
              "                                                                              \n",
              "          0                                                     0             \n",
              "                                                                              \n",
              "                                                                              \n",
              "                                                                              \n",
              "   d           2⋅ν(r)    ⎞  -2⋅ν(r)                                           \n",
              " r⋅──(ν(r)) + ℯ       - 1⎟⋅ℯ                                    0             \n",
              "   dr                    ⎠                                                    \n",
              "                                                                              \n",
              "                                     ⎛  d            d           2⋅ν(r)    ⎞  \n",
              "          0                          ⎜r⋅──(λ(r)) + r⋅──(ν(r)) + ℯ       - 1⎟⋅ℯ\n",
              "                                     ⎝  dr           dr                    ⎠  \n",
              "\n",
              "               ⎤\n",
              "               ⎥\n",
              "               ⎥\n",
              "               ⎥\n",
              "               ⎥\n",
              "               ⎥\n",
              "               ⎥\n",
              "               ⎥\n",
              "               ⎥\n",
              "               ⎥\n",
              "               ⎥\n",
              "               ⎥\n",
              "               ⎥\n",
              "               ⎥\n",
              "               ⎥\n",
              "               ⎥\n",
              "               ⎥\n",
              "               ⎥\n",
              "               ⎥\n",
              "-2⋅ν(r)    2   ⎥\n",
              "       ⋅sin (θ)⎥\n",
              "               ⎦"
            ]
          },
          "metadata": {},
          "execution_count": 34
        }
      ]
    },
    {
      "cell_type": "markdown",
      "metadata": {
        "id": "f84KqvRewaYR"
      },
      "source": [
        "### Escalar de Ricci"
      ]
    },
    {
      "cell_type": "markdown",
      "metadata": {
        "id": "hZ5u1zTmdwWg"
      },
      "source": [
        "Una vez que se tiene el tensor de Ricci, se contraen sus índices y se obtiene el escalar de curvatura de Ricci."
      ]
    },
    {
      "cell_type": "code",
      "metadata": {
        "id": "xU-JEeiqwZzN"
      },
      "source": [
        "# Se calcula el escalar de Ricci\n",
        "ricci_escalar = RicciScalar.from_riccitensor(ricci_tensor)"
      ],
      "execution_count": 35,
      "outputs": []
    },
    {
      "cell_type": "code",
      "metadata": {
        "colab": {
          "base_uri": "https://localhost:8080/",
          "height": 65
        },
        "id": "c0DsG7r7wnNM",
        "outputId": "d50d5fa1-5789-412b-8068-50f946185cf7"
      },
      "source": [
        "# Se muestra el escalar con un formato apropiado para su visualización\n",
        "ricci_escalar.expr"
      ],
      "execution_count": 36,
      "outputs": [
        {
          "output_type": "execute_result",
          "data": {
            "image/png": "[encoded data removed]",
            "text/latex": "$\\displaystyle \\frac{2 \\left(r \\left(- r \\left(\\left(\\frac{d}{d r} \\lambda{\\left(r \\right)}\\right)^{2} + \\frac{d}{d r} \\lambda{\\left(r \\right)} \\frac{d}{d r} \\nu{\\left(r \\right)} - \\frac{d^{2}}{d r^{2}} \\lambda{\\left(r \\right)}\\right) + \\frac{d}{d r} \\lambda{\\left(r \\right)} + \\frac{d}{d r} \\nu{\\left(r \\right)}\\right) + r \\frac{d}{d r} \\lambda{\\left(r \\right)} + r \\frac{d}{d r} \\nu{\\left(r \\right)} + e^{2 \\nu{\\left(r \\right)}} - 1\\right) e^{- 2 \\nu{\\left(r \\right)}}}{r^{2}}$",
            "text/plain": [
              "  ⎛  ⎛    ⎛          2                         2      ⎞                      ⎞\n",
              "  ⎜  ⎜    ⎜⎛d       ⎞    d        d           d       ⎟   d          d       ⎟\n",
              "2⋅⎜r⋅⎜- r⋅⎜⎜──(λ(r))⎟  + ──(λ(r))⋅──(ν(r)) - ───(λ(r))⎟ + ──(λ(r)) + ──(ν(r))⎟\n",
              "  ⎜  ⎜    ⎜⎝dr      ⎠    dr       dr           2      ⎟   dr         dr      ⎟\n",
              "  ⎝  ⎝    ⎝                                  dr       ⎠                      ⎠\n",
              "──────────────────────────────────────────────────────────────────────────────\n",
              "                                                                2             \n",
              "                                                               r              \n",
              "\n",
              "                                        ⎞         \n",
              "     d            d           2⋅ν(r)    ⎟  -2⋅ν(r)\n",
              " + r⋅──(λ(r)) + r⋅──(ν(r)) + ℯ       - 1⎟⋅ℯ       \n",
              "     dr           dr                    ⎟         \n",
              "                                        ⎠         \n",
              "──────────────────────────────────────────────────\n",
              "                                                  \n",
              "                                                  "
            ]
          },
          "metadata": {},
          "execution_count": 36
        }
      ]
    },
    {
      "cell_type": "markdown",
      "metadata": {
        "id": "6TzIqs5uAasB"
      },
      "source": [
        "Con estos resultados ya se puede calcular el tensor de Einstein. Sin embargo, también se puede calcular ese tensor directamente, a partir de la métrica."
      ]
    },
    {
      "cell_type": "markdown",
      "metadata": {
        "id": "0X8JdPQvyPp7"
      },
      "source": [
        "### Tensor de Einstein"
      ]
    },
    {
      "cell_type": "markdown",
      "metadata": {
        "id": "JETfC3rqd5Bz"
      },
      "source": [
        "Si no importa tanto el procedimiento para calcular el tensor de Einstein, también se puede calcular directamente de la métrica."
      ]
    },
    {
      "cell_type": "code",
      "metadata": {
        "id": "iKY3BfRUyR32"
      },
      "source": [
        "# Se calcula el tensor de Einstein\n",
        "einstein = EinsteinTensor.from_metric(metrica)"
      ],
      "execution_count": 37,
      "outputs": []
    },
    {
      "cell_type": "code",
      "metadata": {
        "colab": {
          "base_uri": "https://localhost:8080/",
          "height": 154
        },
        "id": "yN_coimBzW78",
        "outputId": "ac0cfacd-d228-4511-9900-e236258a03f2"
      },
      "source": [
        "# Se simplifican las expresiones del tensor y se muestra\n",
        "einstein.simplify()"
      ],
      "execution_count": 38,
      "outputs": [
        {
          "output_type": "execute_result",
          "data": {
            "text/latex": "$\\displaystyle \\left[\\begin{matrix}\\frac{\\left(2.0 r \\frac{d}{d r} \\nu{\\left(r \\right)} + 1.0 e^{2 \\nu{\\left(r \\right)}} - 1.0\\right) e^{- 2 \\lambda{\\left(r \\right)} - 2 \\nu{\\left(r \\right)}}}{r^{2}} & 0 & 0 & 0\\\\0 & \\frac{1.0 \\left(- 2.0 r \\frac{d}{d r} \\lambda{\\left(r \\right)} - 1.0 e^{2 \\nu{\\left(r \\right)}} + 1.0\\right)}{r^{2}} & 0 & 0\\\\0 & 0 & - 1.0 r \\left(- r \\left(\\left(\\frac{d}{d r} \\lambda{\\left(r \\right)}\\right)^{2} + \\frac{d}{d r} \\lambda{\\left(r \\right)} \\frac{d}{d r} \\nu{\\left(r \\right)} - \\frac{d^{2}}{d r^{2}} \\lambda{\\left(r \\right)}\\right) + \\frac{d}{d r} \\lambda{\\left(r \\right)} + \\frac{d}{d r} \\nu{\\left(r \\right)}\\right) e^{- 2 \\nu{\\left(r \\right)}} & 0\\\\0 & 0 & 0 & - 1.0 r \\left(- r \\left(\\left(\\frac{d}{d r} \\lambda{\\left(r \\right)}\\right)^{2} + \\frac{d}{d r} \\lambda{\\left(r \\right)} \\frac{d}{d r} \\nu{\\left(r \\right)} - \\frac{d^{2}}{d r^{2}} \\lambda{\\left(r \\right)}\\right) + \\frac{d}{d r} \\lambda{\\left(r \\right)} + \\frac{d}{d r} \\nu{\\left(r \\right)}\\right) e^{- 2 \\nu{\\left(r \\right)}} \\sin^{2}{\\left(\\theta \\right)}\\end{matrix}\\right]$",
            "text/plain": [
              "⎡⎛      d               2⋅ν(r)      ⎞  -2⋅λ(r) - 2⋅ν(r)                       \n",
              "⎢⎜2.0⋅r⋅──(ν(r)) + 1.0⋅ℯ       - 1.0⎟⋅ℯ                                       \n",
              "⎢⎝      dr                          ⎠                                         \n",
              "⎢──────────────────────────────────────────────────────                    0  \n",
              "⎢                           2                                                 \n",
              "⎢                          r                                                  \n",
              "⎢                                                                             \n",
              "⎢                                                            ⎛        d       \n",
              "⎢                                                        1.0⋅⎜- 2.0⋅r⋅──(λ(r))\n",
              "⎢                                                            ⎝        dr      \n",
              "⎢                          0                             ─────────────────────\n",
              "⎢                                                                           2 \n",
              "⎢                                                                          r  \n",
              "⎢                                                                             \n",
              "⎢                                                                             \n",
              "⎢                                                                             \n",
              "⎢                          0                                               0  \n",
              "⎢                                                                             \n",
              "⎢                                                                             \n",
              "⎢                                                                             \n",
              "⎢                                                                             \n",
              "⎢                                                                             \n",
              "⎢                          0                                               0  \n",
              "⎢                                                                             \n",
              "⎣                                                                             \n",
              "\n",
              "                                                                              \n",
              "                                                                              \n",
              "                                                                              \n",
              "                                                               0              \n",
              "                                                                              \n",
              "                                                                              \n",
              "                                                                              \n",
              "    2⋅ν(r)      ⎞                                                             \n",
              " - ℯ       + 1.0⎟                                                             \n",
              "                ⎠                                                             \n",
              "─────────────────                                              0              \n",
              "                                                                              \n",
              "                                                                              \n",
              "                                                                              \n",
              "                          ⎛    ⎛          2                         2      ⎞  \n",
              "                          ⎜    ⎜⎛d       ⎞    d        d           d       ⎟  \n",
              "                   -1.0⋅r⋅⎜- r⋅⎜⎜──(λ(r))⎟  + ──(λ(r))⋅──(ν(r)) - ───(λ(r))⎟ +\n",
              "                          ⎜    ⎜⎝dr      ⎠    dr       dr           2      ⎟  \n",
              "                          ⎝    ⎝                                  dr       ⎠  \n",
              "                                                                              \n",
              "                                                                              \n",
              "                                                                              \n",
              "                                                               0              \n",
              "                                                                              \n",
              "                                                                              \n",
              "\n",
              "                                                                              \n",
              "                                                                              \n",
              "                                                                              \n",
              "                                                                              \n",
              "                                                                              \n",
              "                                                                              \n",
              "                                                                              \n",
              "                                                                              \n",
              "                                                                              \n",
              "                                                                              \n",
              "                                                                              \n",
              "                                                                              \n",
              "                                                                              \n",
              "                                                                              \n",
              "                    ⎞                                                         \n",
              " d          d       ⎟  -2⋅ν(r)                                                \n",
              " ──(λ(r)) + ──(ν(r))⎟⋅ℯ                                                       \n",
              " dr         dr      ⎟                                                         \n",
              "                    ⎠                                                         \n",
              "                                                                              \n",
              "                                       ⎛    ⎛          2                      \n",
              "                                       ⎜    ⎜⎛d       ⎞    d        d         \n",
              "                                -1.0⋅r⋅⎜- r⋅⎜⎜──(λ(r))⎟  + ──(λ(r))⋅──(ν(r)) -\n",
              "                                       ⎜    ⎜⎝dr      ⎠    dr       dr        \n",
              "                                       ⎝    ⎝                                 \n",
              "\n",
              "                                                   ⎤\n",
              "                                                   ⎥\n",
              "                                                   ⎥\n",
              "  0                                                ⎥\n",
              "                                                   ⎥\n",
              "                                                   ⎥\n",
              "                                                   ⎥\n",
              "                                                   ⎥\n",
              "                                                   ⎥\n",
              "                                                   ⎥\n",
              "  0                                                ⎥\n",
              "                                                   ⎥\n",
              "                                                   ⎥\n",
              "                                                   ⎥\n",
              "                                                   ⎥\n",
              "                                                   ⎥\n",
              "  0                                                ⎥\n",
              "                                                   ⎥\n",
              "                                                   ⎥\n",
              "                                                   ⎥\n",
              "   2      ⎞                      ⎞                 ⎥\n",
              "  d       ⎟   d          d       ⎟  -2⋅ν(r)    2   ⎥\n",
              " ───(λ(r))⎟ + ──(λ(r)) + ──(ν(r))⎟⋅ℯ       ⋅sin (θ)⎥\n",
              "   2      ⎟   dr         dr      ⎟                 ⎥\n",
              " dr       ⎠                      ⎠                 ⎦"
            ]
          },
          "metadata": {},
          "execution_count": 38
        }
      ]
    }
  ]
}